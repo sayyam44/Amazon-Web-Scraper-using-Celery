{
 "cells": [
  {
   "cell_type": "code",
   "execution_count": 9,
   "metadata": {},
   "outputs": [
    {
     "name": "stdout",
     "output_type": "stream",
     "text": [
      "Initial Working Directory (PWD): C:\\Users\\hp\\Web_Scrapping_Celery\\Celery_web_scrapping\n",
      "Resolved Django Root Directory Path (PWD): C:\\Users\\hp\\Web_Scrapping_Celery\\Celery_web_scrapping\n",
      "Python path after inserting PWD: ['C:\\\\Users\\\\hp\\\\Web_Scrapping_Celery\\\\Celery_web_scrapping', 'C:\\\\Users\\\\hp\\\\Web_Scrapping_Celery\\\\Celery_web_scrapping', 'C:\\\\Users\\\\hp\\\\Web_Scrapping_Celery\\\\Celery_web_scrapping', 'C:\\\\Users\\\\hp\\\\Web_Scrapping_Celery\\\\Celery_web_scrapping\\\\nbs', 'C:\\\\Users\\\\hp\\\\anaconda3\\\\python38.zip', 'C:\\\\Users\\\\hp\\\\anaconda3\\\\DLLs', 'C:\\\\Users\\\\hp\\\\anaconda3\\\\lib', 'C:\\\\Users\\\\hp\\\\anaconda3', '', 'C:\\\\Users\\\\hp\\\\anaconda3\\\\lib\\\\site-packages', 'C:\\\\Users\\\\hp\\\\anaconda3\\\\lib\\\\site-packages\\\\win32', 'C:\\\\Users\\\\hp\\\\anaconda3\\\\lib\\\\site-packages\\\\win32\\\\lib', 'C:\\\\Users\\\\hp\\\\anaconda3\\\\lib\\\\site-packages\\\\Pythonwin', 'C:\\\\Users\\\\hp\\\\anaconda3\\\\lib\\\\site-packages\\\\IPython\\\\extensions', 'C:\\\\Users\\\\hp\\\\.ipython']\n",
      "DJANGO_SETTINGS_MODULE: Celery_web_scrapping2.settings\n",
      "Django setup completed\n"
     ]
    }
   ],
   "source": [
    "import setup\n",
    "setup.init_django(project_name='Celery_web_scrapping2')"
   ]
  },
  {
   "cell_type": "code",
   "execution_count": 10,
   "metadata": {},
   "outputs": [],
   "source": [
    "import helpers\n",
    "from items.models import ProductScrapeEvent, Product"
   ]
  },
  {
   "cell_type": "code",
   "execution_count": 11,
   "metadata": {},
   "outputs": [],
   "source": [
    "url = \"https://www.amazon.com/PlayStation%C2%AE5-Digital-slim-PlayStation-5/dp/B0CL5KNB9M/ref=sr_1_3?crid=B7GWFZXZ2OED&dib=eyJ2IjoiMSJ9.kgp6If9Ie8zGHwBo-0htBLyQbbKjs5VuqpcJV5opH4mRqQT9y1GDUhgEGC4Ze5c7iOpklu5U3l_vF3hGTmGfZf8jvVY7cSGvtmhRbSth2-wUchP4cPB4bCopxZnBPpqLbX4wU-JZkepl_i4fGdXQJXUMLc256FqdCdlbjr6ZMyFHhWIJq2G38fcfQx3z9RS1e48jNXaYXv1rWtJ3Y30-OZP-ckGz15zF5vR6k6z6G6c.HDrf64xu0Nz7DYLZvUdGglWizRZpAXBxsxbsgsW26Tc&dib_tag=se&keywords=ps5&qid=1709675943&sprefix=ps5%2Caps%2C190&sr=8-3\""
   ]
  },
  {
   "cell_type": "code",
   "execution_count": 12,
   "metadata": {},
   "outputs": [
    {
     "name": "stdout",
     "output_type": "stream",
     "text": [
      "Connecting to Scraping Browser...\n",
      "Connected! Navigating to https://www.amazon.com/PlayStation%C2%AE5-Digital-slim-PlayStation-5/dp/B0CL5KNB9M/ref=sr_1_3\n",
      "Navigated! Scraping page content...\n"
     ]
    }
   ],
   "source": [
    "html = helpers.scrape(url=url, solve_captcha=False) #scraping the data\n",
    "data = helpers.extract_amazon_product_data(html) #extracting the data that is required"
   ]
  },
  {
   "cell_type": "code",
   "execution_count": 13,
   "metadata": {},
   "outputs": [
    {
     "data": {
      "text/plain": [
       "{'asin': '',\n",
       " 'title': 'PlayStation®5 Digital Edition (slim)',\n",
       " 'price_raw': '449.',\n",
       " 'price_text': '449.',\n",
       " 'price': 449.0,\n",
       " 'metadata': [{'Memory Storage Capacity': '1 TB'},\n",
       "  {'Resolution': '4K'},\n",
       "  {'Wireless Communication Technology': 'Bluetooth'},\n",
       "  {'Input Device': 'Gamepad'},\n",
       "  {'Connectivity Technology': 'HDMI'},\n",
       "  {'Platform': 'PlayStation 5'}],\n",
       " 'description': ' \\n Play Like Never Before. The PS5 Digital Edition unleashes new gaming possibilities that you never anticipated. Experience lightning fast loading with an ultra-high speed SSD, deeper immersion with support for haptic feedback, adaptive triggers, and 3D Audio*,and an all-new generation of incredible PlayStation® games. PS5 Digital Edition is an all-digital version of the PS5 console with no disc drive. Sign into your account for PlayStation Network and go to PlayStation Store to buy and download games (Account for PlayStation Network required). Lightning Speed - Harness the power of a custom CPU, GPU, and SSD with Integrated I/O that rewrite the rules of what a PlayStation console can do. Stunning Games - Marvel at incredible graphics and experience new PS5 features. Play a back catalog of supported PS4 games. Breathtaking Immersion - Discover a deeper gaming experience with support for haptic feedback, adaptive triggers, and 3D Audio technology. *3D audio via built-in TV speakers or analog/USB stereo headphones. Set up and latest system software update required.  ',\n",
       " 'feature_bullets': ' \\n About this item    Model Number CFI-2000    Includes DualSense Wireless Controller, 1TB SSD, 2 Horizontal Stand Feet, HDMI Cable, AC power cord, USB cable, printed materials, ASTRO’s PLAYROOM (Pre-installed game)    Vertical Stand sold seperately    \\n ›  See more product details   ',\n",
       " 'rating': {'average': 4.7, 'count': 8572}}"
      ]
     },
     "execution_count": 13,
     "metadata": {},
     "output_type": "execute_result"
    }
   ],
   "source": [
    "data #printing the extract data"
   ]
  },
  {
   "cell_type": "code",
   "execution_count": 14,
   "metadata": {},
   "outputs": [],
   "source": [
    "# ProductScrapeEvent.objects.create_scrape_event(data, url=url) #creating the model for this data "
   ]
  },
  {
   "cell_type": "code",
   "execution_count": 15,
   "metadata": {},
   "outputs": [
    {
     "name": "stdout",
     "output_type": "stream",
     "text": [
      "[<ProductScrapeEvent: ProductScrapeEvent object (1)>, <ProductScrapeEvent: ProductScrapeEvent object (2)>]\n"
     ]
    }
   ],
   "source": [
    "# qs = ProductScrapeEvent.objects.all() #getting all the data of that product for the scraping even that we ran up\n",
    "# qs\n",
    "from asgiref.sync import sync_to_async\n",
    "\n",
    "# Create the scrape event asynchronously\n",
    "await sync_to_async(ProductScrapeEvent.objects.create_scrape_event)(data, url=url) #creating the model for this data \n",
    "\n",
    "# Fetch all data of that product for the scraping event asynchronously\n",
    "qs = await sync_to_async(list)(ProductScrapeEvent.objects.all())\n",
    "print(qs)  # Print or inspect the result"
   ]
  },
  {
   "cell_type": "code",
   "execution_count": 17,
   "metadata": {},
   "outputs": [
    {
     "name": "stdout",
     "output_type": "stream",
     "text": [
      "[<Product: Product object (1)>]\n"
     ]
    }
   ],
   "source": [
    "# Fetch all products asynchronously from the Product model that currently holds just one product at this time\n",
    "product_qs = await sync_to_async(list)(Product.objects.all())\n",
    "print(product_qs)  # Print or inspect the result\n"
   ]
  },
  {
   "cell_type": "code",
   "execution_count": null,
   "metadata": {},
   "outputs": [],
   "source": []
  }
 ],
 "metadata": {
  "kernelspec": {
   "display_name": "Python 3",
   "language": "python",
   "name": "python3"
  },
  "language_info": {
   "codemirror_mode": {
    "name": "ipython",
    "version": 3
   },
   "file_extension": ".py",
   "mimetype": "text/x-python",
   "name": "python",
   "nbconvert_exporter": "python",
   "pygments_lexer": "ipython3",
   "version": "3.8.5"
  }
 },
 "nbformat": 4,
 "nbformat_minor": 4
}
