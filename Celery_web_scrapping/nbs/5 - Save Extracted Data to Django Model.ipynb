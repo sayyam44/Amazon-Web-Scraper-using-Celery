{
 "cells": [
  {
   "cell_type": "code",
   "execution_count": 1,
   "metadata": {},
   "outputs": [
    {
     "name": "stdout",
     "output_type": "stream",
     "text": [
      "Initial Working Directory (PWD): C:\\Users\\hp\\Web_Scrapping_Celery\\Celery_web_scrapping\n",
      "Resolved Django Root Directory Path (PWD): C:\\Users\\hp\\Web_Scrapping_Celery\\Celery_web_scrapping\n",
      "Python path after inserting PWD: ['C:\\\\Users\\\\hp\\\\Web_Scrapping_Celery\\\\Celery_web_scrapping', 'C:\\\\Users\\\\hp\\\\Web_Scrapping_Celery\\\\Celery_web_scrapping\\\\nbs', 'C:\\\\Users\\\\hp\\\\anaconda3\\\\python38.zip', 'C:\\\\Users\\\\hp\\\\anaconda3\\\\DLLs', 'C:\\\\Users\\\\hp\\\\anaconda3\\\\lib', 'C:\\\\Users\\\\hp\\\\anaconda3', '', 'C:\\\\Users\\\\hp\\\\anaconda3\\\\lib\\\\site-packages', 'C:\\\\Users\\\\hp\\\\anaconda3\\\\lib\\\\site-packages\\\\win32', 'C:\\\\Users\\\\hp\\\\anaconda3\\\\lib\\\\site-packages\\\\win32\\\\lib', 'C:\\\\Users\\\\hp\\\\anaconda3\\\\lib\\\\site-packages\\\\Pythonwin', 'C:\\\\Users\\\\hp\\\\anaconda3\\\\lib\\\\site-packages\\\\IPython\\\\extensions', 'C:\\\\Users\\\\hp\\\\.ipython']\n",
      "DJANGO_SETTINGS_MODULE: Celery_web_scrapping2.settings\n",
      "Django setup completed\n"
     ]
    }
   ],
   "source": [
    "import setup\n",
    "setup.init_django(project_name='Celery_web_scrapping2')"
   ]
  },
  {
   "cell_type": "code",
   "execution_count": 2,
   "metadata": {},
   "outputs": [],
   "source": [
    "import helpers"
   ]
  },
  {
   "cell_type": "code",
   "execution_count": 3,
   "metadata": {},
   "outputs": [],
   "source": [
    "from bs4 import BeautifulSoup"
   ]
  },
  {
   "cell_type": "code",
   "execution_count": 4,
   "metadata": {},
   "outputs": [],
   "source": [
    "url = \"https://www.amazon.com/PlayStation%C2%AE5-Digital-slim-PlayStation-5/dp/B0CL5KNB9M/ref=sr_1_3?crid=B7GWFZXZ2OED&dib=eyJ2IjoiMSJ9.kgp6If9Ie8zGHwBo-0htBLyQbbKjs5VuqpcJV5opH4mRqQT9y1GDUhgEGC4Ze5c7iOpklu5U3l_vF3hGTmGfZf8jvVY7cSGvtmhRbSth2-wUchP4cPB4bCopxZnBPpqLbX4wU-JZkepl_i4fGdXQJXUMLc256FqdCdlbjr6ZMyFHhWIJq2G38fcfQx3z9RS1e48jNXaYXv1rWtJ3Y30-OZP-ckGz15zF5vR6k6z6G6c.HDrf64xu0Nz7DYLZvUdGglWizRZpAXBxsxbsgsW26Tc&dib_tag=se&keywords=ps5&qid=1709675943&sprefix=ps5%2Caps%2C190&sr=8-3\"\n",
    "# url = \"https://www.amazon.com/Microsoft-RRT-00001-Xbox-Enhanced-Protection-X/dp/B0CMFGD9C4/ref=sr_1_3?crid=O4D5MCNRPHZG&dib=eyJ2IjoiMSJ9.BesESVeGKfCLfmoE_Vj2bHkyIqHkjt6vWY83koTZ_cz2I8dLY4__kVTkLkSzkH-tXhAxpP2gQNyM5eVeTcHhvxw10QXkh4Y_4mErHWUhqbSt9lrSfOO_-FmaAKtnyeF8iomBtkjnfyUknCfgCkCLPUr4uTyEnz5WtXbXQI-WN6fXgPPlvAdJXHHZEW4PuI3no5Em_YuyrBMW5_lEcEiUTpPXfdpztJ9ofmYYPF6l8WI.dg-z2b_4ANwk_S5W2m6JFCSScCDS2b3idQV1r-yQOWQ&dib_tag=se&keywords=xbox+series+x&qid=1709681924&sprefix=xbox%2Caps%2C264&sr=8-3\""
   ]
  },
  {
   "cell_type": "code",
   "execution_count": 5,
   "metadata": {},
   "outputs": [
    {
     "data": {
      "text/plain": [
       "'https://www.amazon.com/PlayStation%C2%AE5-Digital-slim-PlayStation-5/dp/B0CL5KNB9M/ref=sr_1_3?crid=B7GWFZXZ2OED&dib=eyJ2IjoiMSJ9.kgp6If9Ie8zGHwBo-0htBLyQbbKjs5VuqpcJV5opH4mRqQT9y1GDUhgEGC4Ze5c7iOpklu5U3l_vF3hGTmGfZf8jvVY7cSGvtmhRbSth2-wUchP4cPB4bCopxZnBPpqLbX4wU-JZkepl_i4fGdXQJXUMLc256FqdCdlbjr6ZMyFHhWIJq2G38fcfQx3z9RS1e48jNXaYXv1rWtJ3Y30-OZP-ckGz15zF5vR6k6z6G6c.HDrf64xu0Nz7DYLZvUdGglWizRZpAXBxsxbsgsW26Tc&dib_tag=se&keywords=ps5&qid=1709675943&sprefix=ps5%2Caps%2C190&sr=8-3'"
      ]
     },
     "execution_count": 5,
     "metadata": {},
     "output_type": "execute_result"
    }
   ],
   "source": [
    "url"
   ]
  },
  {
   "cell_type": "code",
   "execution_count": 6,
   "metadata": {},
   "outputs": [
    {
     "name": "stdout",
     "output_type": "stream",
     "text": [
      "Connecting to Scraping Browser...\n",
      "Connected! Navigating to https://www.amazon.com/PlayStation%C2%AE5-Digital-slim-PlayStation-5/dp/B0CL5KNB9M/ref=sr_1_3\n",
      "Navigated! Scraping page content...\n"
     ]
    }
   ],
   "source": [
    "html = helpers.scrape(url=url, solve_captcha=False)\n",
    "data = helpers.extract_amazon_product_data(html)"
   ]
  },
  {
   "cell_type": "code",
   "execution_count": 7,
   "metadata": {},
   "outputs": [
    {
     "data": {
      "text/plain": [
       "{'asin': 'B0CL5KNB9M',\n",
       " 'title': 'PlayStation®5 Digital Edition (slim)',\n",
       " 'price_raw': '449.',\n",
       " 'price_text': '449.',\n",
       " 'price': 449.0,\n",
       " 'metadata': [{'ASIN': 'B0CL5KNB9M'},\n",
       "  {'Release date': 'November 24, 2023'},\n",
       "  {'Customer Reviews': '4.7  4.7 out of 5 stars    \\n    8,570 ratings   \\n\\n\\n 4.7 out of 5 stars'},\n",
       "  {'Best Sellers Rank': '#105 in Video Games (See Top 100 in Video Games)  #2 in PlayStation 5 Consoles'},\n",
       "  {'Product Dimensions': '17 x 15 x 6 inches; 8.9 Pounds'},\n",
       "  {'Type of item': 'Video Game'},\n",
       "  {'Item model number': 'CFI-2000'},\n",
       "  {'Item Weight': '8.9 pounds'},\n",
       "  {'Manufacturer': 'Sony'},\n",
       "  {'Country of Origin': 'China'},\n",
       "  {'Batteries': '1 Lithium Ion batteries required. (included)'},\n",
       "  {'Date First Available': 'November 24, 2023'}],\n",
       " 'description': ' \\n Play Like Never Before. The PS5 Digital Edition unleashes new gaming possibilities that you never anticipated. Experience lightning fast loading with an ultra-high speed SSD, deeper immersion with support for haptic feedback, adaptive triggers, and 3D Audio*,and an all-new generation of incredible PlayStation® games. PS5 Digital Edition is an all-digital version of the PS5 console with no disc drive. Sign into your account for PlayStation Network and go to PlayStation Store to buy and download games (Account for PlayStation Network required). Lightning Speed - Harness the power of a custom CPU, GPU, and SSD with Integrated I/O that rewrite the rules of what a PlayStation console can do. Stunning Games - Marvel at incredible graphics and experience new PS5 features. Play a back catalog of supported PS4 games. Breathtaking Immersion - Discover a deeper gaming experience with support for haptic feedback, adaptive triggers, and 3D Audio technology. *3D audio via built-in TV speakers or analog/USB stereo headphones. Set up and latest system software update required.  ',\n",
       " 'feature_bullets': ' \\n About this item    Model Number CFI-2000    Includes DualSense Wireless Controller, 1TB SSD, 2 Horizontal Stand Feet, HDMI Cable, AC power cord, USB cable, printed materials, ASTRO’s PLAYROOM (Pre-installed game)    Vertical Stand sold seperately    \\n ›  See more product details   ',\n",
       " 'rating': {'average': 4.7, 'count': 8570}}"
      ]
     },
     "execution_count": 7,
     "metadata": {},
     "output_type": "execute_result"
    }
   ],
   "source": [
    " data"
   ]
  },
  {
   "cell_type": "code",
   "execution_count": 8,
   "metadata": {},
   "outputs": [],
   "source": [
    "def find_product_table_data(html):\n",
    "    soup = BeautifulSoup(html)\n",
    "    product_data = soup.find('div', id='prodDetails')\n",
    "    if product_data is None:\n",
    "        return []\n",
    "    table = product_data.find('table')\n",
    "    columns = [f\"{x.text}\".strip() for x in table.find_all('th')]\n",
    "    table_data=[]\n",
    "    for i, row in enumerate(table.find_all('tr')):  # [1:] to skip the header row\n",
    "        # Get all cells in the row\n",
    "        cells = row.find_all('td')\n",
    "        # Create a dictionary for the current row, mapping header to cell data\n",
    "        row_data = {columns[i]: f'{cell.text}'.strip() for cell in cells}\n",
    "        # Add the dictionary to your list\n",
    "        table_data.append(row_data)\n",
    "    return table_data\n",
    "\n",
    "def find_product_rating(html):\n",
    "    soup = BeautifulSoup(html)\n",
    "    average_rating = soup.find(id='averageCustomerReviews').find_all(\"span\", class_='a-size-base')[0].text.strip()\n",
    "    average_rating = \"\".join([x for x in f\"{average_rating}\".strip() if x.isdigit() or x == '.'])\n",
    "    average_rating = float(average_rating)\n",
    "    rating_data = soup.find(id='acrCustomerReviewText').text\n",
    "    rating_count = int(''.join([x for x in rating_data if x.isdigit()]))\n",
    "    rating_count\n",
    "    return {\n",
    "        'average': average_rating,\n",
    "        'count': rating_count,\n",
    "    }\n",
    "\n",
    "def extract_amazon_product_data(html):\n",
    "    soup = BeautifulSoup(html)\n",
    "    productTitle = soup.find('span', id='productTitle')\n",
    "    productTitleText = f\"{productTitle.text}\".strip()\n",
    "    productPrice = soup.find_all('span', class_='a-price-whole')[0]\n",
    "    productPrice = f\"{productPrice.text}\".strip()\n",
    "    productPriceText = \"\".join([x for x in productPrice if x.isdigit() or x == '.'])\n",
    "    productPriceNum = float(productPriceText)\n",
    "    try:\n",
    "        productDescription = soup.find('div', id='productDescription').text\n",
    "    except:\n",
    "        productDescription = ''\n",
    "    featureBullets = soup.find('div', id='feature-bullets').text\n",
    "    return {\n",
    "        'title': productTitleText,\n",
    "        'price_raw': productPrice,\n",
    "        'price_text': productPriceText,\n",
    "        'price': productPriceNum,\n",
    "        'metadata': find_product_table_data(html),\n",
    "        'description': productDescription,\n",
    "        'feature_bullets': featureBullets,\n",
    "        'rating': find_product_rating(html)\n",
    "    }"
   ]
  },
  {
   "cell_type": "code",
   "execution_count": 9,
   "metadata": {},
   "outputs": [
    {
     "name": "stdout",
     "output_type": "stream",
     "text": [
      "Connecting to Scraping Browser...\n",
      "Connected! Navigating to https://www.amazon.com/PlayStation%C2%AE5-Digital-slim-PlayStation-5/dp/B0CL5KNB9M/ref=sr_1_3\n",
      "Navigated! Scraping page content...\n"
     ]
    }
   ],
   "source": [
    "html = helpers.scrape(url=url, solve_captcha=False)"
   ]
  },
  {
   "cell_type": "code",
   "execution_count": 10,
   "metadata": {},
   "outputs": [
    {
     "data": {
      "text/plain": [
       "{'title': 'PlayStation®5 Digital Edition (slim)',\n",
       " 'price_raw': '449.',\n",
       " 'price_text': '449.',\n",
       " 'price': 449.0,\n",
       " 'metadata': [{'ASIN': 'B0CL5KNB9M'},\n",
       "  {'Release date': 'November 24, 2023'},\n",
       "  {'Customer Reviews': '4.7  4.7 out of 5 stars    \\n    8,570 ratings   \\n\\n\\n 4.7 out of 5 stars'},\n",
       "  {'Best Sellers Rank': '#105 in Video Games (See Top 100 in Video Games)  #2 in PlayStation 5 Consoles'},\n",
       "  {'Product Dimensions': '17 x 15 x 6 inches; 8.9 Pounds'},\n",
       "  {'Type of item': 'Video Game'},\n",
       "  {'Item model number': 'CFI-2000'},\n",
       "  {'Item Weight': '8.9 pounds'},\n",
       "  {'Manufacturer': 'Sony'},\n",
       "  {'Country of Origin': 'China'},\n",
       "  {'Batteries': '1 Lithium Ion batteries required. (included)'},\n",
       "  {'Date First Available': 'November 24, 2023'}],\n",
       " 'description': ' \\n Play Like Never Before. The PS5 Digital Edition unleashes new gaming possibilities that you never anticipated. Experience lightning fast loading with an ultra-high speed SSD, deeper immersion with support for haptic feedback, adaptive triggers, and 3D Audio*,and an all-new generation of incredible PlayStation® games. PS5 Digital Edition is an all-digital version of the PS5 console with no disc drive. Sign into your account for PlayStation Network and go to PlayStation Store to buy and download games (Account for PlayStation Network required). Lightning Speed - Harness the power of a custom CPU, GPU, and SSD with Integrated I/O that rewrite the rules of what a PlayStation console can do. Stunning Games - Marvel at incredible graphics and experience new PS5 features. Play a back catalog of supported PS4 games. Breathtaking Immersion - Discover a deeper gaming experience with support for haptic feedback, adaptive triggers, and 3D Audio technology. *3D audio via built-in TV speakers or analog/USB stereo headphones. Set up and latest system software update required.  ',\n",
       " 'feature_bullets': ' \\n About this item    Model Number CFI-2000    Includes DualSense Wireless Controller, 1TB SSD, 2 Horizontal Stand Feet, HDMI Cable, AC power cord, USB cable, printed materials, ASTRO’s PLAYROOM (Pre-installed game)    Vertical Stand sold seperately    \\n ›  See more product details   ',\n",
       " 'rating': {'average': 4.7, 'count': 8570}}"
      ]
     },
     "execution_count": 10,
     "metadata": {},
     "output_type": "execute_result"
    }
   ],
   "source": [
    "data = extract_amazon_product_data(html)\n",
    "data"
   ]
  },
  {
   "cell_type": "code",
   "execution_count": null,
   "metadata": {},
   "outputs": [],
   "source": []
  }
 ],
 "metadata": {
  "kernelspec": {
   "display_name": "Python 3",
   "language": "python",
   "name": "python3"
  },
  "language_info": {
   "codemirror_mode": {
    "name": "ipython",
    "version": 3
   },
   "file_extension": ".py",
   "mimetype": "text/x-python",
   "name": "python",
   "nbconvert_exporter": "python",
   "pygments_lexer": "ipython3",
   "version": "3.8.5"
  }
 },
 "nbformat": 4,
 "nbformat_minor": 4
}
