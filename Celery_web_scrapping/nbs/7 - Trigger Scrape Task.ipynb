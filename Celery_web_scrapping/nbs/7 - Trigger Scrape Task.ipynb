{
 "cells": [
  {
   "cell_type": "code",
   "execution_count": 14,
   "metadata": {},
   "outputs": [],
   "source": [
    "#this notebook is for triggering the scraper tasks for celery this basically scraps the data on the basis of the tasks \n",
    "#defined for celery in tasks.py file in items folder instead of the model that we earlier did in 6th jupyter notebook."
   ]
  },
  {
   "cell_type": "code",
   "execution_count": 17,
   "metadata": {},
   "outputs": [
    {
     "name": "stdout",
     "output_type": "stream",
     "text": [
      "Initial Working Directory (PWD): C:\\Users\\hp\\Web_Scrapping_Celery\\Celery_web_scrapping\n",
      "Resolved Django Root Directory Path (PWD): C:\\Users\\hp\\Web_Scrapping_Celery\\Celery_web_scrapping\n",
      "Python path after inserting PWD: ['C:\\\\Users\\\\hp\\\\Web_Scrapping_Celery\\\\Celery_web_scrapping', 'C:\\\\Users\\\\hp\\\\Web_Scrapping_Celery\\\\Celery_web_scrapping', 'C:\\\\Users\\\\hp\\\\Web_Scrapping_Celery\\\\Celery_web_scrapping', 'C:\\\\Users\\\\hp\\\\Web_Scrapping_Celery\\\\Celery_web_scrapping', 'C:\\\\Users\\\\hp\\\\Web_Scrapping_Celery\\\\Celery_web_scrapping', 'C:\\\\Users\\\\hp\\\\Web_Scrapping_Celery\\\\Celery_web_scrapping', 'C:\\\\Users\\\\hp\\\\Web_Scrapping_Celery\\\\Celery_web_scrapping\\\\nbs', 'C:\\\\Users\\\\hp\\\\anaconda3\\\\python38.zip', 'C:\\\\Users\\\\hp\\\\anaconda3\\\\DLLs', 'C:\\\\Users\\\\hp\\\\anaconda3\\\\lib', 'C:\\\\Users\\\\hp\\\\anaconda3', '', 'C:\\\\Users\\\\hp\\\\anaconda3\\\\lib\\\\site-packages', 'C:\\\\Users\\\\hp\\\\anaconda3\\\\lib\\\\site-packages\\\\win32', 'C:\\\\Users\\\\hp\\\\anaconda3\\\\lib\\\\site-packages\\\\win32\\\\lib', 'C:\\\\Users\\\\hp\\\\anaconda3\\\\lib\\\\site-packages\\\\Pythonwin', 'C:\\\\Users\\\\hp\\\\anaconda3\\\\lib\\\\site-packages\\\\IPython\\\\extensions', 'C:\\\\Users\\\\hp\\\\.ipython']\n",
      "DJANGO_SETTINGS_MODULE: Celery_web_scrapping2.settings\n",
      "Django setup completed\n"
     ]
    }
   ],
   "source": [
    "import setup\n",
    "setup.init_django(project_name='Celery_web_scrapping2')"
   ]
  },
  {
   "cell_type": "code",
   "execution_count": 18,
   "metadata": {},
   "outputs": [],
   "source": [
    "import helpers\n",
    "from items.tasks import scrape_product_url_task #instead of importing models I am importing the tasks"
   ]
  },
  {
   "cell_type": "code",
   "execution_count": 19,
   "metadata": {},
   "outputs": [],
   "source": [
    "url = \"https://www.amazon.com/PlayStation%C2%AE5-Digital-slim-PlayStation-5/dp/B0CL5KNB9M/ref=sr_1_3?crid=B7GWFZXZ2OED&dib=eyJ2IjoiMSJ9.kgp6If9Ie8zGHwBo-0htBLyQbbKjs5VuqpcJV5opH4mRqQT9y1GDUhgEGC4Ze5c7iOpklu5U3l_vF3hGTmGfZf8jvVY7cSGvtmhRbSth2-wUchP4cPB4bCopxZnBPpqLbX4wU-JZkepl_i4fGdXQJXUMLc256FqdCdlbjr6ZMyFHhWIJq2G38fcfQx3z9RS1e48jNXaYXv1rWtJ3Y30-OZP-ckGz15zF5vR6k6z6G6c.HDrf64xu0Nz7DYLZvUdGglWizRZpAXBxsxbsgsW26Tc&dib_tag=se&keywords=ps5&qid=1709675943&sprefix=ps5%2Caps%2C190&sr=8-3\""
   ]
  },
  {
   "cell_type": "code",
   "execution_count": 20,
   "metadata": {},
   "outputs": [
    {
     "data": {
      "text/plain": [
       "<AsyncResult: 893bf727-f372-47f7-a005-a0bb3755295a>"
      ]
     },
     "execution_count": 20,
     "metadata": {},
     "output_type": "execute_result"
    }
   ],
   "source": [
    "# # The .delay() method in Celery is a shortcut to asynchronously send a task to the Celery worker.\n",
    "scrape_product_url_task.delay(url) "
   ]
  },
  {
   "cell_type": "code",
   "execution_count": null,
   "metadata": {},
   "outputs": [],
   "source": []
  }
 ],
 "metadata": {
  "kernelspec": {
   "display_name": "Python 3",
   "language": "python",
   "name": "python3"
  },
  "language_info": {
   "codemirror_mode": {
    "name": "ipython",
    "version": 3
   },
   "file_extension": ".py",
   "mimetype": "text/x-python",
   "name": "python",
   "nbconvert_exporter": "python",
   "pygments_lexer": "ipython3",
   "version": "3.8.5"
  }
 },
 "nbformat": 4,
 "nbformat_minor": 4
}
